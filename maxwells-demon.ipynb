{
 "cells": [
  {
   "cell_type": "markdown",
   "metadata": {},
   "source": [
    "# Maxwell's Demon\n",
    "\n",
    "### Neil D. Lawrence\n",
    "\n",
    "### 2020-01-01"
   ]
  },
  {
   "cell_type": "markdown",
   "metadata": {},
   "source": [
    "Our Maxwell's demon is formed by a chamber with a dividing membrane. The chamber contains particles, all of equall mass $m=1$. The chamber is split in two parts by a membrane. The membrane's effect on the particles is controlled by the demon.\n",
    "\n",
    "The velocities of the particles are given by, $\\mathbf{v} = \\{ v_i\\}$. Each particle sits on either the right or left hand side of the membrane. The position of each particle is denoted by $\\mathbf{s} = \\{ s_i \\}$, with $s_i=0$ if the $i$th particle is on the left hand side of the membrane, and $s_i = 1$ if the $i$th particle is on the right hand side of the membrane.\n",
    "\n",
    "The demon has the power to allow particles to pass through the membrane. Any particle which is allowed to pass through the membrane is labelled with $d_i = 1$. Particles that don't pass the membrane rebound with an elastic collision. The full set of state variables associated with the demon's decisions are given by $\\mathbf{d} = \\{ d_i \\}$. \n",
    "\n",
    "We are interested in the joint distribution of these states, \n",
    "$$\n",
    "p(\\mathbf{v}, \\mathbf{s}, \\mathbf{d}).\n",
    "$$\n",
    "\n",
    "We assume that the particles are colliding with elastic collisions, so that the kinetic energy of the system is conserved and we have,\n",
    "$$\n",
    "E = \\frac{1}{2}\\sum_{i}v_i^2.\n",
    "$$\n",
    "We are intererested in the stationary distribution of this system. That stationary distribution will occur when equal number of particles pass from the left hand side of the membrane to the right hand side and when particles passing the membrane loose the demon mark. These condition are expressed by\n",
    "$$\\begin{align*}\n",
    "-\\eta\\sum_{i} (1-s_i)(1-d_i) v_i & = -\\eta\\sum_{i} s_i d_i v_i,\\\\\n",
    "\\eta\\sum_{i} (1-s_i) d_i v_i & = \\eta\\sum s_i(1- d_i) v_i,\\\\\n",
    "\\eta\\sum_{i} (1-s_i) d_i v_i & = -\\eta\\sum_{i} s_i d_i v_i.\n",
    "\\end{align*}$$\n"
   ]
  },
  {
   "cell_type": "markdown",
   "metadata": {},
   "source": [
    "Finally, we have the demon, who selects which particles will be able to pass through the membrane. The demon operates on the particles according to the side of the membrane they are on and the speed they are travelling. We introduce an indicator function, $I(\\cdot)$, that depends on the side, $s_i$, and the velocity, $v_i$, which returns a value of zero or one to set $d_i$,\n",
    "$$\n",
    "d_i = I(v_i, s_i).\n",
    "$$\n",
    "We also set $I(v_i, s_i=0) = 1- I(v_i, s_i=1)$, so that the value of $d_i$ is reversed on the two different sides of the membrane."
   ]
  },
  {
   "cell_type": "markdown",
   "metadata": {},
   "source": [
    "These constraints allow us to build the stationary distribution through the principle of maximum entropy. The idea of maximum entropy is that the distribution will tend to its maximum entropy variant over time, so we have,\n",
    "$$\\begin{align*}\n",
    "p(\\mathbf{v}, \\mathbf{s}, \\mathbf{d}) \\propto & \\exp\\left(\\frac{\\lambda_1}{2}\\sum_i v_i^2 \\right. \\\\ & \n",
    "+ \\lambda_2\\left(\\sum_{i} (1-s_i)(1-d_i) v_i - \\sum_{i} s_i d_i v_i\\right) \\\\ &\n",
    "+ \\lambda_3\\left(\\sum_{i} s_i(1-d_i)v_i - \\sum_{i} (1-s_i) d_i v_i\\right) \\\\ &\n",
    "+ \\lambda_4\\left(\\sum_{i} s_i d_i v_i + \\sum_{i} (1-s_i)d_i v_i\\right) \\\\ &\n",
    "+ \\left. \\sum_i \\mu_i \\left(d_i - I(v_i, s_i)\\right)\\right),\n",
    "\\end{align*}$$\n",
    "where $\\lambda_1$, $\\lambda_2$ and $\\left\\{\\mu_i\\right\\}$ are the Lagrange multipliers associated with the conditions on the moments."
   ]
  },
  {
   "cell_type": "markdown",
   "metadata": {},
   "source": [
    "The distribution factorises over particles so we can consider the distribution for an individual particle which has the form,\n",
    "$$\\begin{align*}\n",
    "p(v_i, s_i, d_i) \\propto & \\exp\\left(\\frac{\\lambda_1}{2} v_i^2 \\right. \\\\ \n",
    "& + \\lambda_2 \\left((1-s_i)(1-d_i) -s_i d_i\\right)v_i \\\\\n",
    "& + \\lambda_3 \\left(s_i(1-d_i) - (1-s_i) d_i\\right)v_i \\\\\n",
    "& + \\lambda_4\\left( s_i d_i + (1-s_i)d_i \\right)v_i \\\\\n",
    "& + \\left. \\mu_i \\left(d_i - I(v_i, s_i)\\right)\\right)\n",
    "\\end{align*}$$"
   ]
  },
  {
   "cell_type": "markdown",
   "metadata": {},
   "source": [
    "We consider the distribution for the different values of $s_i$ and $d_i$.\n",
    "$$\n",
    "\\begin{align*}\n",
    "p(v_i | s_i=0, d_i=0) & \\propto \\exp\\left(\\frac{\\lambda_1}{2} v_i^2 + \\lambda_2 v_i\\right) \\exp\\left(-\\mu_i I(v_i, s_i=0)\\right) \\\\\n",
    "p(v_i | s_i=1, d_i=0) & \\propto \\exp\\left(\\frac{\\lambda_1}{2} v_i^2 + \\lambda_3 v_i\\right) \\exp\\left(-\\mu_i I(v_i, s_i=1)\\right) \\\\\n",
    "p(v_i | s_i=0, d_i=1) & \\propto \\exp\\left(\\frac{\\lambda_1}{2} v_i^2 + (\\lambda_4 - \\lambda_3) d_i v_i\\right)\\exp\\left(\\mu_i\\left(1-I(v_i, s_i=0)\\right)\\right) \\\\\n",
    "p(v_i | s_i=1, d_i=1) & \\propto \\exp\\left(\\frac{\\lambda_1}{2} v_i^2 + (\\lambda_4 - \\lambda_2) d_i v_i\\right)\\exp\\left(\\mu_i\\left(1-I(v_i, s_i=1)\\right)\\right)\n",
    "\\end{align*}\n",
    "$$\n",
    "\n",
    "\n",
    "$$\\begin{align*}\n",
    "f(v_i)\\exp\\left( k I(v_i, s_i=0) \\right) & = I(v_i, s_i=0)\\exp(k)f(v_i) +  (1-I(v_i, s_i=0)) f(v_i) \\\\\n",
    "& = \\exp(k)I(v_i, s_i=0)f(v_i) + I(v_i, s_i=1) f(v_i).\n",
    "\\end{align*}$$\n",
    "\n",
    "$$\n",
    "\\begin{align*}\n",
    "p(v_i | s_i=0, d_i=0) & \\propto \\exp\\left(-\\mu_i\\right) I(v_i, s_i=0)\\exp\\left(\\frac{\\lambda_1}{2} v_i^2\\right) + I(v_i, s_i=1)\\exp\\left(\\frac{\\lambda_1}{2} v_i^2\\right) \\\\\n",
    "p(v_i | s_i=1, d_i=0) & \\propto I(v_i, s_i=0)\\exp\\left(\\frac{\\lambda_1}{2} v_i^2\\right) + \\exp\\left(-\\mu_i\\right) I(v_i, s_i=1)\\exp\\left(\\frac{\\lambda_1}{2} v_i^2\\right)  \\\\\n",
    "p(v_i | s_i=0, d_i=1) & \\propto I(v_i, s_i=0)\\exp\\left(\\frac{\\lambda_1}{2} v_i^2 + \\lambda_2 d_i v_i\\right) + \\exp(\\mu_i)I(v_i, s_i=1)\\exp\\left(\\frac{\\lambda_1}{2} v_i^2 + \\lambda_2 d_i v_i\\right) \\\\\n",
    "p(v_i | s_i=1, d_i=1) & \\propto \\exp(\\mu_i)I(v_i, s_i=0)\\exp\\left(\\frac{\\lambda_1}{2} v_i^2 + \\lambda_2 d_i v_i\\right) + I(v_i, s_i=1)\\exp\\left(\\frac{\\lambda_1}{2} v_i^2 + \\lambda_2 d_i v_i\\right)\n",
    "\\end{align*}\n",
    "$$"
   ]
  },
  {
   "cell_type": "markdown",
   "metadata": {},
   "source": []
  },
  {
   "cell_type": "markdown",
   "metadata": {},
   "source": [
    "Which we can rewrite as"
   ]
  },
  {
   "cell_type": "markdown",
   "metadata": {},
   "source": [
    "$$\\begin{align*}\n",
    "p(v_i, s_i, d_i) \\propto & \\exp\\left( s_i (1-d_i) \\frac{\\lambda_1}{2}v_i^2\\right) \\\\\n",
    "& \\times \\exp\\left((1-s_i)d_i \\frac{\\lambda_1}{2} v_i^2\\right) \\\\\n",
    "& \\times \\exp\\left(s_i d_i \\left(\\frac{\\lambda_1}{2} v_i^2 + \\lambda_2 v_i\\right)\\right) \\\\\n",
    "& \\times \\exp\\left((1-s_i)(1-d_i) \\left(\\frac{\\lambda_1}{2} v_i^2- v_i\\right)\\right)\n",
    "\\end{align*}$$"
   ]
  },
  {
   "cell_type": "markdown",
   "metadata": {},
   "source": [
    "where the components in the product are switched in according to the configuration of the binary variables $d_i$ and $s_i$. Each component can be recognised as a Gaussian,"
   ]
  },
  {
   "cell_type": "markdown",
   "metadata": {},
   "source": [
    "$\\newcommand{\\gaussianDist}[3]{\\mathcal{N}\\left(#1|#2, #3\\right)}$\n",
    "$$\\begin{align*}\n",
    "p(v_i, s_i, d_i) = & \\frac{1}{4}\\gaussianDist{v_i}{0}{-\\lambda_1^{-1}}^{s_i (1-d_i)} \\\\\n",
    "& \\times \\gaussianDist{v_i}{0}{-\\lambda_1^{-1}}^{(1 -s_i) d_i} \\\\\n",
    "& \\times \\gaussianDist{v_i}{\\frac{\\lambda_2}{2\\lambda_1}}{-\\lambda_1^{-1}}^{s_i d_i}\\\\\n",
    "& \\times \\gaussianDist{v_i}{-\\frac{\\lambda_2}{2\\lambda_1}}{-\\lambda_1^{-1}}^{(1-s_i) (1-d_i)}.\n",
    "\\end{align*}$$"
   ]
  },
  {
   "cell_type": "markdown",
   "metadata": {},
   "source": [
    "And the marginal distribution over velocities is therefore a *mixture of Gaussians*. \n",
    "$$\n",
    "\\begin{align*}\n",
    "p(v_i) = & \\frac{1}{2}\\gaussianDist{v_i}{0}{-\\lambda_1^{-1}} \n",
    " + \\frac{1}{4}\\gaussianDist{v_i}{\\frac{\\lambda_2}{2\\lambda_1}}{-\\lambda_1^{-1}}\n",
    " + \\frac{1}{4}\\gaussianDist{v_i}{-\\frac{\\lambda_2}{2\\lambda_1}}{-\\lambda_1^{-1}}.\n",
    "\\end{align*}\n",
    "$$\n",
    "We are interested in the *entropy* of this distribution. The entropy of a mixture can be problematic, we first decompose it into the entropy of the components and a mutual information term.\n",
    "$$\n",
    "H(v_i) =  - \\int \\sum_m p(v_i | m) p(m) \\log \\sum p(v_i | m) p(m) \\text{d}v_i\n",
    "$$\n",
    "$$\n",
    "H(v_i) =  - \\int \\sum_m p(v_i | m) p(m) \\log p(v_i | m)  \\text{d}v_i - \\int \\sum_m p(v_i | m) p(m) \\log \\frac{\\sum_m p(v_i | m) p(m)}{p(v_i | m)}  \\text{d}v_i\n",
    "$$\n",
    "$$\n",
    "H(v_i) =  - \\sum_m  p(m)\\int p(v_i | m) \\log p(v_i | m)  \\text{d}v_i - \\int \\sum_m p(v_i , m) \\log \\frac{p(v_i) p(m)}{p(v_i,m)}  \\text{d}v_i\n",
    "$$\n",
    "$$\n",
    "H(v_i) =  - \\sum_m  p(m)\\int p(v_i | m) \\log p(v_i | m)  \\text{d}v_i + \\int \\sum_m p(v_i , m) \\log \\frac{p(v_i,m)}{p(v_i) p(m)}  \\text{d}v_i\n",
    "$$"
   ]
  },
  {
   "cell_type": "markdown",
   "metadata": {},
   "source": [
    "Consider some scenarios. \n",
    "\n",
    "1. Let's assume that no particles are allowed to pass the membrane, this means $d_i=0$. In this case the system separates into two compartments, with mean zero and variance $-\\lambda_1^2$ for each compartment. \n",
    "\n",
    "2. Let's assume that all particles are always allowed to pass the membrane. Now $d_i=1$ for all $i$. \n",
    "\n",
    "and distribution no longer depends on $s_i$Now if we imagine that the demon is capable of observing which particles are on which side and which "
   ]
  },
  {
   "cell_type": "code",
   "execution_count": null,
   "metadata": {},
   "outputs": [],
   "source": []
  }
 ],
 "metadata": {
  "kernelspec": {
   "display_name": "Python 3",
   "language": "python",
   "name": "python3"
  },
  "language_info": {
   "codemirror_mode": {
    "name": "ipython",
    "version": 3
   },
   "file_extension": ".py",
   "mimetype": "text/x-python",
   "name": "python",
   "nbconvert_exporter": "python",
   "pygments_lexer": "ipython3",
   "version": "3.6.10"
  }
 },
 "nbformat": 4,
 "nbformat_minor": 4
}
